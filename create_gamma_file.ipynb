{
 "cells": [
  {
   "cell_type": "code",
   "execution_count": null,
   "id": "354ac559",
   "metadata": {},
   "outputs": [
    {
     "name": "stdout",
     "output_type": "stream",
     "text": [
      "Saved gamma parameters with yearly averaging, shape: (121, 118)\n"
     ]
    }
   ],
   "source": [
    "import xarray as xr\n",
    "import numpy as np\n",
    "from scipy.stats import gamma\n",
    "import cftime\n",
    "\n",
    "ds = xr.open_dataset('../Inputs/precip-detailed-noheight-ordered-sgreenland.KNMI-1950-2099.FGRN11.BN_RACMO2.3p2_CESM2_FGRN11.DD.nc')\n",
    "\n",
    "\n",
    "yearly_groups = ds.groupby('time.year')\n",
    "\n",
    "rlat_len = len(ds.rlat)\n",
    "rlon_len = len(ds.rlon)\n",
    "\n",
    "threshold = 0.76 / 86400 # change this based on what threshold you want to use\n",
    "\n",
    "yearly_alphas = []\n",
    "yearly_betas = []\n",
    "\n",
    "for year, year_data in yearly_groups:\n",
    "    \n",
    "    precip_year = year_data.precip.values\n",
    "    \n",
    "    alpha_year = np.zeros((rlat_len, rlon_len))\n",
    "    beta_year = np.zeros((rlat_len, rlon_len))\n",
    "    \n",
    "    for i in range(rlat_len):\n",
    "        for j in range(rlon_len):\n",
    "            data = precip_year[:, i, j]\n",
    "            valid_data = data[~np.isnan(data) & (data > threshold)]\n",
    "    \n",
    "            if len(valid_data) > 10:\n",
    "                    a, loc, scale = gamma.fit(valid_data, floc=0)\n",
    "                    alpha_year[i, j] = a\n",
    "                    beta_year[i, j] = scale\n",
    "    \n",
    "    yearly_alphas.append(alpha_year)\n",
    "    yearly_betas.append(beta_year)\n",
    "\n",
    "alpha = np.nanmean(np.array(yearly_alphas), axis=0)\n",
    "beta = np.nanmean(np.array(yearly_betas), axis=0)\n",
    "\n",
    "alpha = np.nan_to_num(alpha)\n",
    "beta = np.nan_to_num(beta)\n",
    "\n",
    "ds_out = xr.Dataset(\n",
    "    {\n",
    "        'alpha': (('rlat', 'rlon'), alpha),\n",
    "        'beta': (('rlat', 'rlon'), beta)\n",
    "    },\n",
    "    coords={\n",
    "        'rlat': ds['rlat'],\n",
    "        'rlon': ds['rlon']\n",
    "    }\n",
    ")\n",
    "\n",
    "# ds_out.to_netcdf('gamma_param_greenland_0.76mm.nc')\n",
    "# print(\"Saved gamma parameters with yearly averaging, shape:\", alpha.shape)"
   ]
  }
 ],
 "metadata": {
  "kernelspec": {
   "display_name": "base",
   "language": "python",
   "name": "python3"
  },
  "language_info": {
   "codemirror_mode": {
    "name": "ipython",
    "version": 3
   },
   "file_extension": ".py",
   "mimetype": "text/x-python",
   "name": "python",
   "nbconvert_exporter": "python",
   "pygments_lexer": "ipython3",
   "version": "3.11.4"
  }
 },
 "nbformat": 4,
 "nbformat_minor": 5
}
